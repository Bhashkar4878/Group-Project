{
 "cells": [
  {
   "cell_type": "code",
   "execution_count": null,
   "id": "2abc2933",
   "metadata": {},
   "outputs": [],
   "source": [
    "#first we need to install the library\n",
    "#pip install pillow stepic pycryptodome\n"
   ]
  },
  {
   "cell_type": "code",
   "execution_count": null,
   "id": "f6fd301d-72b5-4996-a22c-fc58e74761aa",
   "metadata": {},
   "outputs": [
    {
     "name": "stdout",
     "output_type": "stream",
     "text": [
      "All packages are available!\n"
     ]
    }
   ],
   "source": [
    "import PIL\n",
    "import stepic\n",
    "import Crypto\n",
    "print(\"All packages are available!\")"
   ]
  },
  {
   "cell_type": "code",
   "execution_count": 8,
   "id": "d3951218-3e5b-4e6a-92c7-a0f5c8c090dd",
   "metadata": {},
   "outputs": [],
   "source": [
    "from PIL import Image\n",
    "\n",
    "img = Image.open(\"img.jpg\")\n",
    "img.save(\"img.png\", \"PNG\")"
   ]
  },
  {
   "cell_type": "code",
   "execution_count": 12,
   "id": "df7fc52c-7628-434b-888f-03ea5da77022",
   "metadata": {},
   "outputs": [],
   "source": [
    "from Crypto.Cipher import AES\n",
    "from Crypto.Util.Padding import pad\n",
    "import base64\n",
    "from PIL import Image\n",
    "import stepic\n",
    "\n",
    "# Step 1: Encrypt message\n",
    "def encrypt_text_aes(text, key):\n",
    "    cipher = AES.new(key.encode(), AES.MODE_CBC, iv=b'0123456789abcdef')\n",
    "    encrypted = cipher.encrypt(pad(text.encode(), AES.block_size))\n",
    "    return base64.b64encode(encrypted).decode()\n",
    "\n",
    "# Step 2: Hide in image\n",
    "def hide_text_in_image(input_img_path, secret_text, output_img_path):\n",
    "    img = Image.open(input_img_path)\n",
    "    encoded_img = stepic.encode(img, secret_text.encode())\n",
    "    encoded_img.save(output_img_path, 'PNG')\n",
    "\n",
    "# Run it\n",
    "key = \"aeskeyforimage12\"\n",
    "message = \"NOt Today\"\n",
    "encrypted = encrypt_text_aes(message, key)\n",
    "\n",
    "# Use a PNG cover image!\n",
    "hide_text_in_image(\"cover.png\", encrypted, \"img.png\")  # Creates a stego image with the secret\n"
   ]
  },
  {
   "cell_type": "code",
   "execution_count": 13,
   "id": "935da2a9-76a4-41ba-8987-9be1d2414dff",
   "metadata": {},
   "outputs": [
    {
     "name": "stdout",
     "output_type": "stream",
     "text": [
      "✅ Decrypted message: NOt Today\n"
     ]
    }
   ],
   "source": [
    "from PIL import Image\n",
    "import stepic\n",
    "from Crypto.Cipher import AES\n",
    "from Crypto.Util.Padding import unpad\n",
    "import base64\n",
    "\n",
    "# === CONFIG ===\n",
    "key = \"aeskeyforimage12\"  # 16 characters\n",
    "iv = b\"0123456789abcdef\"  # Static IV used during encryption\n",
    "image_path = \"img.png\"    # PNG image containing the hidden message\n",
    "\n",
    "# === FUNCTIONS ===\n",
    "def extract_text_from_image(image_path):\n",
    "    img = Image.open(image_path)\n",
    "    return stepic.decode(img)  # already returns string\n",
    "\n",
    "def decrypt_text_aes(enc_b64, key):\n",
    "    cipher = AES.new(key.encode(), AES.MODE_CBC, iv)\n",
    "    decrypted = cipher.decrypt(base64.b64decode(enc_b64))\n",
    "    return unpad(decrypted, AES.block_size).decode()\n",
    "\n",
    "# === RUN ===\n",
    "try:\n",
    "    encrypted_data = extract_text_from_image(image_path)\n",
    "    original_text = decrypt_text_aes(encrypted_data, key)\n",
    "    print(\"✅ Decrypted message:\", original_text)\n",
    "except Exception as e:\n",
    "    print(\"❌ Error:\", e)\n"
   ]
  },
  {
   "cell_type": "code",
   "execution_count": null,
   "id": "6ddd65c5-3e55-4d52-a2d7-8b0267386c80",
   "metadata": {},
   "outputs": [],
   "source": []
  }
 ],
 "metadata": {
  "kernelspec": {
   "display_name": "Python 3 (ipykernel)",
   "language": "python",
   "name": "python3"
  },
  "language_info": {
   "codemirror_mode": {
    "name": "ipython",
    "version": 3
   },
   "file_extension": ".py",
   "mimetype": "text/x-python",
   "name": "python",
   "nbconvert_exporter": "python",
   "pygments_lexer": "ipython3",
   "version": "3.13.2"
  }
 },
 "nbformat": 4,
 "nbformat_minor": 5
}
